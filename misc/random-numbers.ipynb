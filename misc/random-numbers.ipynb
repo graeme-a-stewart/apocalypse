{
 "cells": [
  {
   "cell_type": "markdown",
   "metadata": {
    "vscode": {
     "languageId": "julia"
    }
   },
   "source": [
    "# Random Number Statistics"
   ]
  },
  {
   "cell_type": "markdown",
   "metadata": {},
   "source": [
    "Consider the case of a base-10 random number of $N$ digits. Every digit is randomly selected in the range $[0,9]$.\n",
    "\n",
    "The probability of a specific series of digits, length $l$, arising is $10^{-l}$. There are $N-l+1$ opportunities to make a match.\n",
    "\n",
    "The probability to *not match* each time is $1-10^{-l}$. Therefore the probability to not match anywhere in this number is\n",
    "\n",
    "$(1-10^{-l})^{N-l+1}$"
   ]
  },
  {
   "cell_type": "markdown",
   "metadata": {},
   "source": [
    "Take the specific example of a 3-digit match. Then the probability of a number of $N$ digits not matching is:"
   ]
  },
  {
   "cell_type": "code",
   "execution_count": 3,
   "metadata": {},
   "outputs": [
    {
     "data": {
      "text/plain": [
       "non_match (generic function with 1 method)"
      ]
     },
     "metadata": {},
     "output_type": "display_data"
    }
   ],
   "source": [
    "function non_match(N; length=3)\n",
    "    N < length && return 1.0\n",
    "    (1.0 - 10.0^(-length))^(N+1-length)\n",
    "end"
   ]
  },
  {
   "cell_type": "code",
   "execution_count": 11,
   "metadata": {},
   "outputs": [
    {
     "name": "stdout",
     "output_type": "stream",
     "text": [
      "p(1) -> 1.0\n",
      "p(3) -> 0.999\n",
      "p(10) -> 0.992027944069944\n",
      "p(50) -> 0.9531108968798943\n",
      "p(100) -> 0.9066044494080757\n",
      "p(500) -> 0.607593524316293\n",
      "p(1000) -> 0.36843192017940235\n",
      "p(5000) -> 0.006734574374039293\n",
      "p(10000) -> 4.5263828369959795e-5\n",
      "p(50000) -> 1.8848653148880386e-22\n",
      "p(100000) -> 3.5456153734747036e-44\n",
      "p(100001) -> 3.542069758101229e-44\n",
      "p(500000) -> 5.558812362627309e-218\n",
      "p(1000000) -> 0.0\n"
     ]
    }
   ],
   "source": [
    "for n in [1, 3, 10, 50, 100, 500, 1000, 5000, 10000, 50000, 100000, 100001, 500000, 1000000]\n",
    "    println(\"p($n) -> $(non_match(n))\")\n",
    "end"
   ]
  },
  {
   "cell_type": "markdown",
   "metadata": {},
   "source": [
    "Note that $p(1\\,000\\,000)$ is so small it cannot be represented as a `Float64`!"
   ]
  },
  {
   "cell_type": "markdown",
   "metadata": {},
   "source": [
    "Now, what is the probability that above some $N_{min}$ that every random number *does* contain a match for a particular string?\n",
    "\n",
    "Although the series is infinite, the probability constantly drops, so the probability sum can remain $<1$..."
   ]
  },
  {
   "cell_type": "markdown",
   "metadata": {},
   "source": [
    "$\\Sigma_{n=N_{min}}^\\infty p(n)$"
   ]
  },
  {
   "cell_type": "markdown",
   "metadata": {},
   "source": [
    "Make a numerical approximation to this probability, in the range $[10\\,000, 1\\,000\\,000]$...\n",
    "\n",
    "(Numerically it's hard to do this when the match probability is greater than $1-\\epsilon$, because the `Float64` representation rounds up to $1$)"
   ]
  },
  {
   "cell_type": "code",
   "execution_count": 19,
   "metadata": {},
   "outputs": [
    {
     "name": "stdout",
     "output_type": "stream",
     "text": [
      "Final probability estimate: 0.9557448060534242\n"
     ]
    }
   ],
   "source": [
    "prob = 1.0\n",
    "for n in 1_000_000:-1:10_000\n",
    "    prob *= (1.0 - non_match(n))\n",
    "end\n",
    "println(\"Final probability estimate: $prob\")"
   ]
  },
  {
   "cell_type": "markdown",
   "metadata": {},
   "source": [
    "So this is really a *high* probability that every number *does* match!"
   ]
  }
 ],
 "metadata": {
  "kernelspec": {
   "display_name": "Julia 1.10.2",
   "language": "julia",
   "name": "julia-1.10"
  },
  "language_info": {
   "file_extension": ".jl",
   "mimetype": "application/julia",
   "name": "julia",
   "version": "1.10.2"
  }
 },
 "nbformat": 4,
 "nbformat_minor": 2
}
