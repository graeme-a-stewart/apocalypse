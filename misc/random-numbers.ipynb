{
 "cells": [
  {
   "cell_type": "markdown",
   "metadata": {
    "vscode": {
     "languageId": "julia"
    }
   },
   "source": [
    "# Random Number Statistics"
   ]
  },
  {
   "cell_type": "markdown",
   "metadata": {},
   "source": [
    "## Probability of single non-apocalyptic number"
   ]
  },
  {
   "cell_type": "markdown",
   "metadata": {},
   "source": [
    "Consider the case of a base-10 random number of $l$ digits. Every digit is randomly selected in the range $[0,9]$.\n",
    "\n",
    "The probability of a specific series of digits, length $n$, arising is $10^{-n}$. There are $l-n+1$ opportunities to make a match.\n",
    "\n",
    "The probability to *not match* each time is $1-10^{-n}$. Therefore the probability to not match anywhere in this number is\n",
    "\n",
    "$$(1-10^{-n})^{l-n+1}$$"
   ]
  },
  {
   "cell_type": "markdown",
   "metadata": {},
   "source": [
    "Generalising this to base-b:\n",
    "\n",
    "- Probability of a specific $n$ digit series is $b^{-n}$\n",
    "- Probability to not match is $1-b^{-n}$\n",
    "- Number of opportunities to match $l-n+1$\n",
    "- Probability of not matching\n",
    "\n",
    "$$(1-b^{-n})^{l-n+1}$$\n",
    "\n",
    "With $p=1$ for $l<n$"
   ]
  },
  {
   "cell_type": "markdown",
   "metadata": {},
   "source": [
    "## Expected number of non-apocalyptic numbers"
   ]
  },
  {
   "cell_type": "markdown",
   "metadata": {},
   "source": [
    "Standard result for sum to $\\infty$ is:\n",
    "\n",
    "$$ \\sum_{n=1}^{\\infty} \\epsilon^n = - \\frac{\\epsilon}{\\epsilon-1} $$"
   ]
  },
  {
   "cell_type": "markdown",
   "metadata": {},
   "source": [
    "So the total sum for $n$ and $l$ gives the expected number of non-apocalyptic numbers when matching against a random sequence of numbers in base $b$, with a single number of each digit length $l$, for $l \\in \\mathbb{N}$:\n",
    "\n",
    "$$ m(n,b) = n-1 + \\frac{1-b^{-n}}{b^{-n}} $$"
   ]
  },
  {
   "cell_type": "markdown",
   "metadata": {},
   "source": [
    "### Example\n",
    "\n",
    "For 3 digit matches in base 10:\n",
    "\n",
    "$$ m(3,10) = 2 + \\frac{0.999}{0.001} = 1001 $$"
   ]
  },
  {
   "cell_type": "markdown",
   "metadata": {},
   "source": [
    "### Correction for $p^n$ numbers\n",
    "\n",
    "When the digit sequences are generated from $p^n$ for $n \\in \\mathbb{N}$, there will be a different distribution of numbers that are sampled from - e.g., powers of 2 will give more $l$ digit decimals.\n",
    "\n",
    "The correction factor will be\n",
    "\n",
    "$$ c(p, b) =  \\frac{\\log b }{\\log p} $$\n",
    "\n",
    "e.g., for the case of $2^n$ represented in base 10\n",
    "\n",
    "$$ c(2, 10) = \\frac{\\log 10}{\\log 2} \\approx 3.32193 $$\n",
    "\n",
    "Then, modifying $m(n,b)$ for a different base $p$:\n",
    "\n",
    "$$ m'(n,b,p) = \\left( n-1 + \\frac{1-b^{-n}}{b^{-n}} \\right) \\frac{\\log b }{\\log p} $$"
   ]
  },
  {
   "cell_type": "markdown",
   "metadata": {},
   "source": [
    "### (Non-)Apocalyptic Numbers\n",
    "\n",
    "For the case of $p=2$, $b=10$ and $n=3$:\n",
    "\n",
    "$$m'(n=3,b=10,p=2) \\approx 3325.25$$"
   ]
  },
  {
   "cell_type": "markdown",
   "metadata": {},
   "source": [
    "![Non-apocalyptic matches 2^n, base 10, 3-digit matches](non-apocalyptic-matches-v2-base-10-power-2-seq-3-n1-63992.png)"
   ]
  },
  {
   "cell_type": "markdown",
   "metadata": {},
   "source": [
    "$2^n$ does **not** result in a random sequence, but it's close enough to randomised digits (for all except the $NNN$ matches) so the statistical random non-matches do come close to the actual non-apocalypse sequence counts."
   ]
  },
  {
   "cell_type": "markdown",
   "metadata": {},
   "source": [
    "## Numerical Calculations (not using the known summation)"
   ]
  },
  {
   "cell_type": "markdown",
   "metadata": {},
   "source": [
    "Take the specific example of a 3-digit match. Then the probability of a number of $l$ digits not matching is:"
   ]
  },
  {
   "cell_type": "code",
   "execution_count": 1,
   "metadata": {},
   "outputs": [
    {
     "data": {
      "text/plain": [
       "non_match (generic function with 1 method)"
      ]
     },
     "metadata": {},
     "output_type": "display_data"
    }
   ],
   "source": [
    "function non_match(l; n=3)\n",
    "    (l < n) && return 1.0\n",
    "    (1.0 - 10.0^(-n))^(l+1-n)\n",
    "end"
   ]
  },
  {
   "cell_type": "code",
   "execution_count": 2,
   "metadata": {},
   "outputs": [
    {
     "name": "stdout",
     "output_type": "stream",
     "text": [
      "p(1) -> 1.0\n",
      "p(3) -> 0.999\n",
      "p(10) -> 0.992027944069944\n",
      "p(50) -> 0.9531108968798943\n",
      "p(100) -> 0.9066044494080757\n",
      "p(500) -> 0.607593524316293\n",
      "p(1000) -> 0.36843192017940235\n",
      "p(5000) -> 0.006734574374039293\n",
      "p(10000) -> 4.5263828369959795e-5\n",
      "p(50000) -> 1.8848653148880386e-22\n",
      "p(100000) -> 3.5456153734747036e-44\n",
      "p(100001) -> 3.542069758101229e-44\n",
      "p(500000) -> 5.558812362627309e-218\n",
      "p(1000000) -> 0.0\n"
     ]
    }
   ],
   "source": [
    "for l in [1, 3, 10, 50, 100, 500, 1_000, 5_000, 10_000, 50_000, 100_000, 100_001, 500_000, 1_000_000]\n",
    "    println(\"p($l) -> $(non_match(l))\")\n",
    "end"
   ]
  },
  {
   "cell_type": "markdown",
   "metadata": {},
   "source": [
    "Note that $p(1\\,000\\,000)$ is so small it cannot be represented as a `Float64`!"
   ]
  },
  {
   "cell_type": "markdown",
   "metadata": {},
   "source": [
    "## Probability of all matches above a certain value"
   ]
  },
  {
   "cell_type": "markdown",
   "metadata": {},
   "source": [
    "Now, what is the probability that above some $l_{min}$ that every random number *does* contain a match for a particular string?\n",
    "\n",
    "Here we can use the partial sum formula:\n",
    "\n",
    "$$ \\sum_{n=1}^{k} \\epsilon^n = \\frac{\\epsilon (\\epsilon^k - 1)}{\\epsilon-1} $$\n",
    "\n",
    "Hence\n",
    "\n",
    "$$ \\sum_{n=l_{min}}^{\\infty} \\epsilon^n =  - \\frac{\\epsilon}{\\epsilon-1} - \\frac{\\epsilon (\\epsilon^{l_{min}-1} - 1)}{\\epsilon-1} $$\n",
    "\n",
    "$$ =  - \\frac{-\\epsilon - \\epsilon (\\epsilon^{l_{min}-1} - 1)}{\\epsilon-1} $$\n",
    "\n",
    "$$ = \\frac{-\\epsilon - \\epsilon^{l_{min}} + \\epsilon}{\\epsilon-1} $$\n",
    "\n",
    "$$ = \\frac{\\epsilon^{l_{min}}}{1-\\epsilon} $$"
   ]
  },
  {
   "cell_type": "markdown",
   "metadata": {},
   "source": [
    "This is the expected number of matches for all $n \\geq l_{min}$."
   ]
  },
  {
   "cell_type": "markdown",
   "metadata": {},
   "source": [
    "Recall that $\\epsilon = (1 - b^{-n})$, hence\n",
    "\n",
    "$$ m_{l_{min}}(n, b) = \\frac{(1 - b^{-n})^{l_{min}}}{b^{-n}} $$"
   ]
  },
  {
   "cell_type": "markdown",
   "metadata": {},
   "source": [
    "With the additional correction for number base we have:\n",
    "\n",
    "$$ m'_{l_{min}}(n,b,p) =  \\left( \\frac{(1 - b^{-n})^{l_{min}}}{b^{-n}} \\right ) \\frac{\\log b }{\\log p} $$\n",
    "\n",
    "N.B. note that $l_{min}$ is the digit length in base $b$, not in base $p$!"
   ]
  },
  {
   "cell_type": "code",
   "execution_count": 3,
   "metadata": {},
   "outputs": [
    {
     "data": {
      "text/plain": [
       "m_l_min"
      ]
     },
     "metadata": {},
     "output_type": "display_data"
    }
   ],
   "source": [
    "\"\"\"\n",
    "Calculate number of non-matches above a digit length l_min:\n",
    "\n",
    "n = sequence length to match\n",
    "b = number base of resulting numbers\n",
    "p = power used to generate numbers\n",
    "l_min = minimum digit length (in base b)\n",
    "p_min = minimum power, p^p_min for digit sequences\n",
    "\n",
    "Either l_min is given or p_min, not both!\n",
    "\"\"\"\n",
    "function m_l_min(;n, b, p=nothing, l_min=nothing, p_min=nothing)\n",
    "    if !isnothing(p)\n",
    "        correction = log(b)/log(p)\n",
    "    else\n",
    "        correction = 1.0\n",
    "    end\n",
    "    if !isnothing(p_min)\n",
    "        if !isnothing(l_min)\n",
    "            throw(ArgumentError(\"Cannot give p_min and l_min\"))\n",
    "        end\n",
    "        l_min = p_min / correction\n",
    "    end\n",
    "    b_n = float(b)^-n\n",
    "    (1 - b_n)^l_min * correction / b_n\n",
    "end"
   ]
  },
  {
   "cell_type": "code",
   "execution_count": 4,
   "metadata": {},
   "outputs": [
    {
     "data": {
      "text/plain": [
       "3.800944693165505e-10"
      ]
     },
     "metadata": {},
     "output_type": "display_data"
    }
   ],
   "source": [
    "m_l_min(n=3, b=10, p=2, l_min=29784)"
   ]
  },
  {
   "cell_type": "markdown",
   "metadata": {},
   "source": [
    "For random digit strings, how many non-matches for $666$ would we expect statistically above the highest known non-matching power, $p_{min}=29784$?"
   ]
  },
  {
   "cell_type": "code",
   "execution_count": 5,
   "metadata": {},
   "outputs": [
    {
     "data": {
      "text/plain": [
       "0.42216296934241265"
      ]
     },
     "metadata": {},
     "output_type": "display_data"
    }
   ],
   "source": [
    "m_l_min(n=3, b=10, p=2, p_min=29784+1)"
   ]
  },
  {
   "cell_type": "markdown",
   "metadata": {},
   "source": [
    "So searching from there to infinity, there's only a ~50% chance of finding a match"
   ]
  },
  {
   "cell_type": "markdown",
   "metadata": {},
   "source": [
    "Now, in fact it's pretty fast to sweep up to, say, 129785 (using `limit-search.jl`) and find zero additional non-matches above $p_{min}=29784$, so from there to $\\infty$..."
   ]
  },
  {
   "cell_type": "code",
   "execution_count": 6,
   "metadata": {},
   "outputs": [
    {
     "data": {
      "text/plain": [
       "3.5105275932539506e-14"
      ]
     },
     "metadata": {},
     "output_type": "display_data"
    }
   ],
   "source": [
    "m_l_min(n=3, b=10, p=2, p_min=129785)"
   ]
  },
  {
   "cell_type": "markdown",
   "metadata": {},
   "source": [
    "So the chances of getting a match, even going to $\\infty$ are now extremely small! It's no proof, but it's a strong indication that no further non-matches will be found.\n",
    "\n",
    "Going even a bit further..."
   ]
  },
  {
   "cell_type": "code",
   "execution_count": 7,
   "metadata": {},
   "outputs": [
    {
     "data": {
      "text/plain": [
       "2.919205349108113e-27"
      ]
     },
     "metadata": {},
     "output_type": "display_data"
    }
   ],
   "source": [
    "m_l_min(n=3, b=10, p=2, p_min=229785)"
   ]
  },
  {
   "cell_type": "markdown",
   "metadata": {},
   "source": []
  }
 ],
 "metadata": {
  "kernelspec": {
   "display_name": "Julia 1.10.3",
   "language": "julia",
   "name": "julia-1.10"
  },
  "language_info": {
   "file_extension": ".jl",
   "mimetype": "application/julia",
   "name": "julia",
   "version": "1.10.3"
  }
 },
 "nbformat": 4,
 "nbformat_minor": 2
}
