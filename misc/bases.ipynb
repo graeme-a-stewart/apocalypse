{
 "cells": [
  {
   "cell_type": "markdown",
   "metadata": {},
   "source": [
    "# Base work\n",
    "\n",
    "Generate sequences of n-digits in different bases"
   ]
  },
  {
   "cell_type": "code",
   "execution_count": 7,
   "metadata": {},
   "outputs": [
    {
     "data": {
      "text/plain": [
       "3"
      ]
     },
     "metadata": {},
     "output_type": "display_data"
    }
   ],
   "source": [
    "base = 16\n",
    "seq_length = 3"
   ]
  },
  {
   "cell_type": "code",
   "execution_count": 9,
   "metadata": {},
   "outputs": [
    {
     "data": {
      "text/plain": [
       "4096-element Vector{String}:\n",
       " \"000\"\n",
       " \"001\"\n",
       " \"002\"\n",
       " \"003\"\n",
       " \"004\"\n",
       " \"005\"\n",
       " \"006\"\n",
       " \"007\"\n",
       " \"008\"\n",
       " \"009\"\n",
       " ⋮\n",
       " \"ff7\"\n",
       " \"ff8\"\n",
       " \"ff9\"\n",
       " \"ffa\"\n",
       " \"ffb\"\n",
       " \"ffc\"\n",
       " \"ffd\"\n",
       " \"ffe\"\n",
       " \"fff\""
      ]
     },
     "metadata": {},
     "output_type": "display_data"
    }
   ],
   "source": [
    "seq_values = [ Base.GMP.string(BigInt(i-1), base=base, pad=3) for i in 1:base^seq_length]"
   ]
  },
  {
   "cell_type": "code",
   "execution_count": 11,
   "metadata": {},
   "outputs": [
    {
     "data": {
      "text/plain": [
       "16-element Vector{Int64}:\n",
       "    1\n",
       "  274\n",
       "  547\n",
       "  820\n",
       " 1093\n",
       " 1366\n",
       " 1639\n",
       " 1912\n",
       " 2185\n",
       " 2458\n",
       " 2731\n",
       " 3004\n",
       " 3277\n",
       " 3550\n",
       " 3823\n",
       " 4096"
      ]
     },
     "metadata": {},
     "output_type": "display_data"
    }
   ],
   "source": [
    "Int.(collect(range(1, length(seq_values), base)))"
   ]
  },
  {
   "cell_type": "code",
   "execution_count": null,
   "metadata": {},
   "outputs": [],
   "source": []
  }
 ],
 "metadata": {
  "kernelspec": {
   "display_name": "Julia 1.10.2",
   "language": "julia",
   "name": "julia-1.10"
  },
  "language_info": {
   "file_extension": ".jl",
   "mimetype": "application/julia",
   "name": "julia",
   "version": "1.10.2"
  }
 },
 "nbformat": 4,
 "nbformat_minor": 2
}
